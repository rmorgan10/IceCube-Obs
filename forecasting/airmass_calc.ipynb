{
 "cells": [
  {
   "cell_type": "markdown",
   "metadata": {},
   "source": [
    "# Calculate Observability for IceCube Follow-Up"
   ]
  },
  {
   "cell_type": "code",
   "execution_count": 6,
   "metadata": {},
   "outputs": [],
   "source": [
    "import matplotlib.pyplot as plt\n",
    "import numpy as np\n",
    "import pandas as pd\n",
    "import sys"
   ]
  },
  {
   "cell_type": "code",
   "execution_count": 4,
   "metadata": {},
   "outputs": [
    {
     "data": {
      "text/html": [
       "<div>\n",
       "<style scoped>\n",
       "    .dataframe tbody tr th:only-of-type {\n",
       "        vertical-align: middle;\n",
       "    }\n",
       "\n",
       "    .dataframe tbody tr th {\n",
       "        vertical-align: top;\n",
       "    }\n",
       "\n",
       "    .dataframe thead th {\n",
       "        text-align: right;\n",
       "    }\n",
       "</style>\n",
       "<table border=\"1\" class=\"dataframe\">\n",
       "  <thead>\n",
       "    <tr style=\"text-align: right;\">\n",
       "      <th></th>\n",
       "      <th>DATE</th>\n",
       "      <th>RA</th>\n",
       "      <th>DEC</th>\n",
       "      <th>ANG_RES</th>\n",
       "    </tr>\n",
       "  </thead>\n",
       "  <tbody>\n",
       "    <tr>\n",
       "      <th>0</th>\n",
       "      <td>2020/05/13 05:44:03</td>\n",
       "      <td>58.763296</td>\n",
       "      <td>10.265623</td>\n",
       "      <td>0.243153</td>\n",
       "    </tr>\n",
       "    <tr>\n",
       "      <th>1</th>\n",
       "      <td>2020/05/10 08:36:03</td>\n",
       "      <td>152.776822</td>\n",
       "      <td>-11.736216</td>\n",
       "      <td>0.238961</td>\n",
       "    </tr>\n",
       "    <tr>\n",
       "      <th>2</th>\n",
       "      <td>2020/06/26 01:14:37</td>\n",
       "      <td>249.688971</td>\n",
       "      <td>-9.190152</td>\n",
       "      <td>0.241531</td>\n",
       "    </tr>\n",
       "    <tr>\n",
       "      <th>3</th>\n",
       "      <td>2020/06/30 08:48:45</td>\n",
       "      <td>232.259315</td>\n",
       "      <td>5.258444</td>\n",
       "      <td>0.230626</td>\n",
       "    </tr>\n",
       "    <tr>\n",
       "      <th>4</th>\n",
       "      <td>2020/03/15 09:35:07</td>\n",
       "      <td>353.355815</td>\n",
       "      <td>11.079895</td>\n",
       "      <td>0.271244</td>\n",
       "    </tr>\n",
       "  </tbody>\n",
       "</table>\n",
       "</div>"
      ],
      "text/plain": [
       "                  DATE          RA        DEC   ANG_RES\n",
       "0  2020/05/13 05:44:03   58.763296  10.265623  0.243153\n",
       "1  2020/05/10 08:36:03  152.776822 -11.736216  0.238961\n",
       "2  2020/06/26 01:14:37  249.688971  -9.190152  0.241531\n",
       "3  2020/06/30 08:48:45  232.259315   5.258444  0.230626\n",
       "4  2020/03/15 09:35:07  353.355815  11.079895  0.271244"
      ]
     },
     "execution_count": 4,
     "metadata": {},
     "output_type": "execute_result"
    }
   ],
   "source": [
    "gold = pd.read_csv('gold_alerts.csv').drop('Unnamed: 0', axis=1)\n",
    "gold.head()"
   ]
  },
  {
   "cell_type": "code",
   "execution_count": 5,
   "metadata": {},
   "outputs": [
    {
     "data": {
      "text/html": [
       "<div>\n",
       "<style scoped>\n",
       "    .dataframe tbody tr th:only-of-type {\n",
       "        vertical-align: middle;\n",
       "    }\n",
       "\n",
       "    .dataframe tbody tr th {\n",
       "        vertical-align: top;\n",
       "    }\n",
       "\n",
       "    .dataframe thead th {\n",
       "        text-align: right;\n",
       "    }\n",
       "</style>\n",
       "<table border=\"1\" class=\"dataframe\">\n",
       "  <thead>\n",
       "    <tr style=\"text-align: right;\">\n",
       "      <th></th>\n",
       "      <th>DATE</th>\n",
       "      <th>RA</th>\n",
       "      <th>DEC</th>\n",
       "      <th>ANG_RES</th>\n",
       "    </tr>\n",
       "  </thead>\n",
       "  <tbody>\n",
       "    <tr>\n",
       "      <th>0</th>\n",
       "      <td>2020/05/13 05:44:03</td>\n",
       "      <td>58.763296</td>\n",
       "      <td>10.265623</td>\n",
       "      <td>0.243153</td>\n",
       "    </tr>\n",
       "    <tr>\n",
       "      <th>1</th>\n",
       "      <td>2020/05/10 08:36:03</td>\n",
       "      <td>152.776822</td>\n",
       "      <td>-11.736216</td>\n",
       "      <td>0.238961</td>\n",
       "    </tr>\n",
       "    <tr>\n",
       "      <th>2</th>\n",
       "      <td>2020/06/26 01:14:37</td>\n",
       "      <td>249.688971</td>\n",
       "      <td>-9.190152</td>\n",
       "      <td>0.241531</td>\n",
       "    </tr>\n",
       "    <tr>\n",
       "      <th>3</th>\n",
       "      <td>2020/06/30 08:48:45</td>\n",
       "      <td>232.259315</td>\n",
       "      <td>5.258444</td>\n",
       "      <td>0.230626</td>\n",
       "    </tr>\n",
       "    <tr>\n",
       "      <th>4</th>\n",
       "      <td>2020/03/15 09:35:07</td>\n",
       "      <td>353.355815</td>\n",
       "      <td>11.079895</td>\n",
       "      <td>0.271244</td>\n",
       "    </tr>\n",
       "  </tbody>\n",
       "</table>\n",
       "</div>"
      ],
      "text/plain": [
       "                  DATE          RA        DEC   ANG_RES\n",
       "0  2020/05/13 05:44:03   58.763296  10.265623  0.243153\n",
       "1  2020/05/10 08:36:03  152.776822 -11.736216  0.238961\n",
       "2  2020/06/26 01:14:37  249.688971  -9.190152  0.241531\n",
       "3  2020/06/30 08:48:45  232.259315   5.258444  0.230626\n",
       "4  2020/03/15 09:35:07  353.355815  11.079895  0.271244"
      ]
     },
     "execution_count": 5,
     "metadata": {},
     "output_type": "execute_result"
    }
   ],
   "source": [
    "bronze = pd.read_csv('gold_alerts.csv').drop('Unnamed: 0', axis=1)\n",
    "bronze.head()"
   ]
  },
  {
   "cell_type": "markdown",
   "metadata": {},
   "source": [
    "## Metrics\n",
    "\n",
    "For each simulated alert, we need to calculate the following characteristics:\n",
    "1. airmass\n",
    "2. extinction from the Milky Way\n",
    "3. the separation from the moon on the first night\n",
    "\n",
    "Airmass already accounts for avoiding the sun, so we do not need to calculate sun separation"
   ]
  },
  {
   "cell_type": "markdown",
   "metadata": {},
   "source": [
    "### Observatory specifications"
   ]
  },
  {
   "cell_type": "code",
   "execution_count": 9,
   "metadata": {},
   "outputs": [],
   "source": [
    "class Observatory():\n",
    "    def __init__(self):\n",
    "        return\n",
    "    \n",
    "    #TODO"
   ]
  },
  {
   "cell_type": "code",
   "execution_count": 10,
   "metadata": {},
   "outputs": [],
   "source": [
    "ctio = Observatory()"
   ]
  },
  {
   "cell_type": "markdown",
   "metadata": {},
   "source": [
    "### Function to do the calculation"
   ]
  },
  {
   "cell_type": "code",
   "execution_count": 11,
   "metadata": {},
   "outputs": [],
   "source": [
    "def calculate_metrics(date, ra, dec, observatory=ctio):\n",
    "    ## TODO\n",
    "    \n",
    "    \n",
    "    \n",
    "    return airmass, extinction, moonsep"
   ]
  },
  {
   "cell_type": "markdown",
   "metadata": {},
   "source": [
    "### Run the function and add to the dataframe\n",
    "\n",
    "Run on gold events"
   ]
  },
  {
   "cell_type": "code",
   "execution_count": null,
   "metadata": {},
   "outputs": [],
   "source": [
    "counter = 0.0\n",
    "total = gold.shape[0]\n",
    "airmasses, extincitons, moonseps = [], [], []\n",
    "\n",
    "for index, row in gold.iterrows():\n",
    "    #track progress\n",
    "    counter += 1.0\n",
    "    progress = counter / total * 100.0\n",
    "    sys.stdout.write('\\rProgress:  %.2f %%     ' %progress)\n",
    "    sys.stdout.flush()\n",
    "    \n",
    "    #perform calculation\n",
    "    airmass, extinction, moonsep = calculate_metrics(str(row['DATE']), float(row['RA']), float(row['DEC']))\n",
    "    airmasses.append(airmass)\n",
    "    extinctions.append(extinction)\n",
    "    moonseps.append(moonsep)\n",
    "    \n",
    "gold['AIRMASS'] = airmasses\n",
    "gold['EXTINCTION'] = extinctions\n",
    "gold['MOONSEP'] = moonseps"
   ]
  },
  {
   "cell_type": "markdown",
   "metadata": {},
   "source": [
    "Run on bronze events"
   ]
  },
  {
   "cell_type": "code",
   "execution_count": null,
   "metadata": {},
   "outputs": [],
   "source": [
    "counter = 0.0\n",
    "total = bronze.shape[0]\n",
    "airmasses, extincitons, moonseps = [], [], []\n",
    "\n",
    "for index, row in bronze.iterrows():\n",
    "    #track progress\n",
    "    counter += 1.0\n",
    "    progress = counter / total * 100.0\n",
    "    sys.stdout.write('\\rProgress:  %.2f %%     ' %progress)\n",
    "    sys.stdout.flush()\n",
    "    \n",
    "    #perform calculation\n",
    "    airmass, extinction, moonsep = calculate_metrics(str(row['DATE']), float(row['RA']), float(row['DEC']))\n",
    "    airmasses.append(airmass)\n",
    "    extinctions.append(extinction)\n",
    "    moonseps.append(moonsep)\n",
    "    \n",
    "bronze['AIRMASS'] = airmasses\n",
    "bronze['EXTINCTION'] = extinctions\n",
    "bronze['MOONSEP'] = moonseps"
   ]
  }
 ],
 "metadata": {
  "kernelspec": {
   "display_name": "Python 2",
   "language": "python",
   "name": "python2"
  },
  "language_info": {
   "codemirror_mode": {
    "name": "ipython",
    "version": 2
   },
   "file_extension": ".py",
   "mimetype": "text/x-python",
   "name": "python",
   "nbconvert_exporter": "python",
   "pygments_lexer": "ipython2",
   "version": "2.7.16"
  }
 },
 "nbformat": 4,
 "nbformat_minor": 2
}
